{
 "cells": [
  {
   "cell_type": "markdown",
   "metadata": {},
   "source": [
    "# Importing Header Files"
   ]
  },
  {
   "cell_type": "code",
   "execution_count": 3,
   "metadata": {
    "colab": {},
    "colab_type": "code",
    "id": "e8VvT4W63Lag"
   },
   "outputs": [
    {
     "name": "stderr",
     "output_type": "stream",
     "text": [
      "Using TensorFlow backend.\n"
     ]
    }
   ],
   "source": [
    "#import header files \n",
    "from __future__ import print_function\n",
    "import matplotlib\n",
    "import matplotlib.pyplot as plt\n",
    "import numpy as np\n",
    "import pandas as pd\n",
    "import sklearn as sf\n",
    "import os\n",
    "import cv2\n",
    "from tqdm import tqdm\n",
    "import pickle\n",
    "import keras\n",
    "from keras.preprocessing.image import ImageDataGenerator\n",
    "from keras.models import Sequential\n",
    "from keras.layers import Dense, Dropout, Activation, Flatten\n",
    "from keras.layers import Conv2D, MaxPooling2D\n",
    "from PIL import Image\n",
    "import glob\n",
    "from keras import regularizers\n",
    "from keras.regularizers import l1"
   ]
  },
  {
   "cell_type": "code",
   "execution_count": 4,
   "metadata": {
    "colab": {
     "base_uri": "https://localhost:8080/",
     "height": 34
    },
    "colab_type": "code",
    "id": "wUkEFUFP7UB9",
    "outputId": "ea12c014-d145-43e5-ad0f-c8510f839ba3"
   },
   "outputs": [],
   "source": [
    "#from google.colab import drive\n",
    "#drive.mount('/content/drive')"
   ]
  },
  {
   "cell_type": "code",
   "execution_count": 12,
   "metadata": {
    "colab": {},
    "colab_type": "code",
    "id": "Fg1UWKU03La5"
   },
   "outputs": [],
   "source": [
    "#setting data directories for train, test and validate datset\n",
    "\n",
    "DATADIR_train = \"dsp_project_all_files/train/\"\n",
    "DATADIR_validate = \"dsp_project_all_files/validate/\"\n",
    "DATADIR_test = \"dsp_project_all_files/test/\"\n",
    "\n",
    "#set Categories in a list\n",
    "CATEGORIES = [\"Chinese_Yuan\",\"Euro\",\"Indian_Rupee\",\"Old_Invalid_Currencies\",\"UK_Pound\",\"United_Arab_Emirates_Dirham\",\"US_Dollar\"]\n",
    "\n",
    "#Set Image size which is used while resizing the images\n",
    "IMG_SIZE = 148"
   ]
  },
  {
   "cell_type": "markdown",
   "metadata": {},
   "source": [
    "# Exploratory Data Analysis and Data Preprocessing"
   ]
  },
  {
   "cell_type": "code",
   "execution_count": 13,
   "metadata": {
    "colab": {
     "base_uri": "https://localhost:8080/",
     "height": 252
    },
    "colab_type": "code",
    "id": "8xJsM2lt3LbA",
    "outputId": "d4876cf7-969c-4ecb-e214-e8dec86c46b1"
   },
   "outputs": [
    {
     "name": "stderr",
     "output_type": "stream",
     "text": [
      "100%|██████████| 245/245 [00:05<00:00, 45.19it/s]\n",
      "100%|██████████| 200/200 [00:04<00:00, 44.32it/s]\n",
      "100%|██████████| 196/196 [00:04<00:00, 49.00it/s]\n",
      "100%|██████████| 265/265 [00:03<00:00, 69.59it/s]\n",
      "100%|██████████| 230/230 [00:05<00:00, 39.02it/s]\n",
      "100%|██████████| 276/276 [00:04<00:00, 63.92it/s]\n",
      "100%|██████████| 256/256 [00:05<00:00, 46.09it/s]"
     ]
    },
    {
     "name": "stdout",
     "output_type": "stream",
     "text": [
      "Categories for Currency Classification are\n",
      "Chinese_Yuan 0\n",
      "Euro 1\n",
      "Indian_Rupee 2\n",
      "Old_Invalid_Currencies 3\n",
      "UK_Pound 4\n",
      "United_Arab_Emirates_Dirham 5\n",
      "US_Dollar 6\n"
     ]
    },
    {
     "name": "stderr",
     "output_type": "stream",
     "text": [
      "\n"
     ]
    }
   ],
   "source": [
    "#The create_training_data function will import all the images from the train folder and reshape them in the resolution of 148 X 148 \n",
    "training_data = []\n",
    "category_map = []\n",
    "\n",
    "def create_training_data():\n",
    "    \n",
    "    for category in CATEGORIES:\n",
    "\n",
    "        path = os.path.join(DATADIR_train,category) \n",
    "        class_num = CATEGORIES.index(category)  \n",
    "       \n",
    "        for img in tqdm(os.listdir(path)): \n",
    "            try:\n",
    "                img_array = cv2.imread(os.path.join(path,img) ,cv2.IMREAD_GRAYSCALE)  # convert to array\n",
    "                new_array = cv2.resize(img_array, (IMG_SIZE, IMG_SIZE))  # resize to normalize data size\n",
    "                \n",
    "                training_data.append([new_array, class_num])\n",
    "                \n",
    "               \n",
    "            except Exception as e:  # in the interest in keeping the output clean...\n",
    "                pass\n",
    "            except OSError as e:\n",
    "                print(\"OSErrroBad img most likely\", e, os.path.join(path,img))\n",
    "            except Exception as e:\n",
    "                print(\"general exception\", e, os.path.join(path,img))\n",
    "        \n",
    "    \n",
    "    print(\"Categories for Currency Classification are\")\n",
    "    for category in CATEGORIES:\n",
    "        class_num = CATEGORIES.index(category)\n",
    "        print(category,class_num)\n",
    "    \n",
    "create_training_data()"
   ]
  },
  {
   "cell_type": "code",
   "execution_count": 6,
   "metadata": {
    "colab": {
     "base_uri": "https://localhost:8080/",
     "height": 252
    },
    "colab_type": "code",
    "id": "imctNRli3LbL",
    "outputId": "15e39354-0623-4a9b-807e-975d7f661bac"
   },
   "outputs": [
    {
     "name": "stderr",
     "output_type": "stream",
     "text": [
      "100%|██████████| 83/83 [00:02<00:00, 33.35it/s]\n",
      "100%|██████████| 82/82 [00:03<00:00, 26.62it/s]\n",
      "100%|██████████| 93/93 [00:03<00:00, 24.87it/s]\n",
      "100%|██████████| 86/86 [00:03<00:00, 26.50it/s]\n",
      "100%|██████████| 82/82 [00:04<00:00, 19.10it/s]\n",
      "100%|██████████| 89/89 [00:03<00:00, 24.86it/s]\n",
      "100%|██████████| 95/95 [00:04<00:00, 20.90it/s]"
     ]
    },
    {
     "name": "stdout",
     "output_type": "stream",
     "text": [
      "Categories for Currency Classification are\n",
      "Chinese_Yuan 0\n",
      "Euro 1\n",
      "Indian_Rupee 2\n",
      "Old_Invalid_Currencies 3\n",
      "UK_Pound 4\n",
      "United_Arab_Emirates_Dirham 5\n",
      "US_Dollar 6\n"
     ]
    },
    {
     "name": "stderr",
     "output_type": "stream",
     "text": [
      "\n"
     ]
    }
   ],
   "source": [
    "#The create_testing_data function will import all the images from the test folder and reshape them in the resolution of 148 X 148 \n",
    "testing_data = []\n",
    "\n",
    "def create_testing_data():\n",
    "    for category in CATEGORIES:\n",
    "\n",
    "        path = os.path.join(DATADIR_test,category)  \n",
    "        class_num = CATEGORIES.index(category)  \n",
    "\n",
    "        for img in tqdm(os.listdir(path)):  \n",
    "            try:\n",
    "                img_array = cv2.imread(os.path.join(path,img) ,cv2.IMREAD_GRAYSCALE)  # convert to array\n",
    "                new_array = cv2.resize(img_array, (IMG_SIZE, IMG_SIZE))  # resize to normalize data size\n",
    "                testing_data.append([new_array, class_num]) \n",
    "               # add this to our training_data\n",
    "            except Exception as e:  # in the interest in keeping the output clean...\n",
    "                pass\n",
    "            except OSError as e:\n",
    "                print(\"OSErrroBad img most likely\", e, os.path.join(path,img))\n",
    "            except Exception as e:\n",
    "                print(\"general exception\", e, os.path.join(path,img))\n",
    "                \n",
    "    print(\"Categories for Currency Classification are\")\n",
    "    for category in CATEGORIES:\n",
    "        class_num = CATEGORIES.index(category)\n",
    "        print(category,class_num)\n",
    "        \n",
    "create_testing_data()"
   ]
  },
  {
   "cell_type": "code",
   "execution_count": 7,
   "metadata": {
    "colab": {
     "base_uri": "https://localhost:8080/",
     "height": 84
    },
    "colab_type": "code",
    "id": "61tkGZRH3LbP",
    "outputId": "c11662f5-51e1-47f0-e18e-34bf549c4bbf"
   },
   "outputs": [
    {
     "name": "stdout",
     "output_type": "stream",
     "text": [
      "<class 'list'>\n",
      "1666\n",
      "<class 'list'>\n",
      "609\n"
     ]
    }
   ],
   "source": [
    "print(type(training_data))\n",
    "print(len(training_data))\n",
    "print(type(testing_data))\n",
    "print(len(testing_data))"
   ]
  },
  {
   "cell_type": "code",
   "execution_count": 8,
   "metadata": {
    "colab": {},
    "colab_type": "code",
    "id": "QvacFYsv3LbW"
   },
   "outputs": [],
   "source": [
    "#shuffling training data to avoid bias data \n",
    "import random\n",
    "random.shuffle(training_data)"
   ]
  },
  {
   "cell_type": "markdown",
   "metadata": {},
   "source": [
    "# Spliting data into train and test data frames"
   ]
  },
  {
   "cell_type": "code",
   "execution_count": 9,
   "metadata": {
    "colab": {
     "base_uri": "https://localhost:8080/",
     "height": 84
    },
    "colab_type": "code",
    "id": "bc0fFkk33Lba",
    "outputId": "87adb1bf-3eef-4a5f-a92a-5a06de05ccaa"
   },
   "outputs": [
    {
     "name": "stdout",
     "output_type": "stream",
     "text": [
      "(1666, 21904)\n"
     ]
    }
   ],
   "source": [
    "#spiting training data into x_train and y_train \n",
    "x_train = []\n",
    "y_train = []\n",
    "\n",
    "for features,label in training_data:\n",
    "    x_train.append(features)\n",
    "    y_train.append(label)\n",
    "\n",
    "x_train_basic = np.array(x_train).reshape(-1, IMG_SIZE*IMG_SIZE)\n",
    "\n",
    "print(x_train_basic.shape)"
   ]
  },
  {
   "cell_type": "code",
   "execution_count": 10,
   "metadata": {},
   "outputs": [
    {
     "name": "stdout",
     "output_type": "stream",
     "text": [
      "(609, 21904)\n"
     ]
    }
   ],
   "source": [
    "#spiting testing data into x_train and y_train \n",
    "x_test = []\n",
    "y_test = []\n",
    "\n",
    "for features,label in testing_data:\n",
    "    x_test.append(features)\n",
    "    y_test.append(label)\n",
    "\n",
    "x_test_basic = np.array(x_test).reshape(-1, IMG_SIZE*IMG_SIZE)\n",
    "\n",
    "print(x_test_basic.shape)"
   ]
  },
  {
   "cell_type": "code",
   "execution_count": 19,
   "metadata": {
    "colab": {
     "base_uri": "https://localhost:8080/",
     "height": 268
    },
    "colab_type": "code",
    "id": "M3Hjsmne3Lbf",
    "outputId": "df53d867-46ad-47a3-cde1-49fee1f9aa97"
   },
   "outputs": [
    {
     "data": {
      "image/png": "[encoded data removed]",
      "text/plain": [
       "<Figure size 432x288 with 1 Axes>"
      ]
     },
     "metadata": {
      "needs_background": "light"
     },
     "output_type": "display_data"
    }
   ],
   "source": [
    "#displying images just to check the resolution\n",
    "some_digit_train = x_train_basic[54]\n",
    "some_digit_train = some_digit_train.reshape(148,148)\n",
    "plt.imshow(some_digit_train,cmap=\"gray\")\n",
    "plt.show()"
   ]
  },
  {
   "cell_type": "code",
   "execution_count": 20,
   "metadata": {
    "colab": {
     "base_uri": "https://localhost:8080/",
     "height": 268
    },
    "colab_type": "code",
    "id": "8WfvzMy63Lbj",
    "outputId": "0002f6cb-59b4-44f7-c6b3-2d5f6446bb20"
   },
   "outputs": [
    {
     "data": {
      "image/png": "[encoded data removed]",
      "text/plain": [
       "<Figure size 432x288 with 1 Axes>"
      ]
     },
     "metadata": {
      "needs_background": "light"
     },
     "output_type": "display_data"
    }
   ],
   "source": [
    "#displying images just to check the resolution\n",
    "some_digit_test = x_test_basic[220]\n",
    "some_digit_test = some_digit_test.reshape(148,148)\n",
    "plt.imshow(some_digit_test,cmap=\"gray\")\n",
    "plt.show()"
   ]
  },
  {
   "cell_type": "code",
   "execution_count": 21,
   "metadata": {
    "colab": {
     "base_uri": "https://localhost:8080/",
     "height": 118
    },
    "colab_type": "code",
    "id": "FeB9ZzXP3Lbs",
    "outputId": "e7e958c2-eacd-4781-df9b-80ff128c2c69"
   },
   "outputs": [
    {
     "name": "stdout",
     "output_type": "stream",
     "text": [
      "(609, 21904) <class 'numpy.ndarray'> 609\n",
      "(1666, 21904) <class 'numpy.ndarray'> 1666\n",
      "(609,) <class 'numpy.ndarray'> 609\n",
      "(1666,) <class 'numpy.ndarray'> 1666\n"
     ]
    }
   ],
   "source": [
    "y_train = np.array(y_train)\n",
    "y_test = np.array(y_test)\n",
    "print(x_test_basic.shape, type(x_test_basic),len(x_test_basic))\n",
    "print(x_train_basic.shape,type(x_train_basic), len(x_train_basic))\n",
    "\n",
    "print(y_test.shape, type(y_test),len(y_test))\n",
    "print(y_train.shape,type(y_train), len(y_train))\n"
   ]
  },
  {
   "cell_type": "code",
   "execution_count": 22,
   "metadata": {
    "colab": {
     "base_uri": "https://localhost:8080/",
     "height": 67
    },
    "colab_type": "code",
    "id": "U0_c1v843Lci",
    "outputId": "818d720f-a3df-4717-a7d4-eea72e9c3133"
   },
   "outputs": [
    {
     "name": "stdout",
     "output_type": "stream",
     "text": [
      "(1666,)\n",
      "<class 'numpy.ndarray'>\n"
     ]
    }
   ],
   "source": [
    "y_train = np.array(y_train)\n",
    "print(y_train.shape)\n",
    "print(type(y_train))"
   ]
  },
  {
   "cell_type": "code",
   "execution_count": 23,
   "metadata": {
    "colab": {},
    "colab_type": "code",
    "id": "jzwDUJMU3Lbw"
   },
   "outputs": [],
   "source": [
    "#shuffling the x_train data\n",
    "shuffle_index = np.random.permutation(1666)"
   ]
  },
  {
   "cell_type": "code",
   "execution_count": 24,
   "metadata": {
    "colab": {},
    "colab_type": "code",
    "id": "Z25_r56E3Lb1"
   },
   "outputs": [],
   "source": [
    "x_train_basic = x_train_basic[shuffle_index]\n",
    "y_train = y_train[shuffle_index]"
   ]
  },
  {
   "cell_type": "markdown",
   "metadata": {},
   "source": [
    "# 1) SGD Classifier"
   ]
  },
  {
   "cell_type": "code",
   "execution_count": 25,
   "metadata": {
    "colab": {
     "base_uri": "https://localhost:8080/",
     "height": 34
    },
    "colab_type": "code",
    "id": "HtARTd8E3Lb5",
    "outputId": "6d538510-c44c-4946-8923-6a24c6d5f538"
   },
   "outputs": [
    {
     "data": {
      "text/plain": [
       "sklearn.linear_model._stochastic_gradient.SGDClassifier"
      ]
     },
     "execution_count": 25,
     "metadata": {},
     "output_type": "execute_result"
    }
   ],
   "source": [
    "#Using SGDClassifier to train data\n",
    "from sklearn.linear_model import SGDClassifier\n",
    "sgd = SGDClassifier(random_state=50,learning_rate=\"adaptive\",eta0=0.01)\n",
    "type(sgd)"
   ]
  },
  {
   "cell_type": "code",
   "execution_count": 26,
   "metadata": {
    "colab": {
     "base_uri": "https://localhost:8080/",
     "height": 34
    },
    "colab_type": "code",
    "id": "1QlDocK43Lb8",
    "outputId": "d74de6e1-9d89-44ff-e425-d561dc8dfddc"
   },
   "outputs": [
    {
     "name": "stdout",
     "output_type": "stream",
     "text": [
      "{0: 0, 1: 0, 2: 0, 3: 1, 4: 0, 5: 0, 6: 0, 7: 5, 8: 0, 9: 0, 10: 0, 11: 0, 12: 2, 13: 0, 14: 0, 15: 0, 16: 0, 17: 0}\n"
     ]
    }
   ],
   "source": [
    "sgd.fit(x_train_basic, y_train)\n",
    "pred = sgd.predict(x_test_basic[1:20])\n",
    "\n",
    "j=0\n",
    "d = {}\n",
    "l1=[]\n",
    "for i in range(0,18):\n",
    "    d[i] = pred[j]\n",
    "    j=j+1\n",
    "\n",
    "print(d)"
   ]
  },
  {
   "cell_type": "code",
   "execution_count": 28,
   "metadata": {
    "colab": {
     "base_uri": "https://localhost:8080/",
     "height": 269
    },
    "colab_type": "code",
    "id": "9BHgt9CY3LcA",
    "outputId": "ba2a9f59-01c0-47ac-862e-64a51e946108"
   },
   "outputs": [
    {
     "data": {
      "image/png": "[encoded data removed]",
      "text/plain": [
       "<Figure size 432x288 with 1 Axes>"
      ]
     },
     "metadata": {
      "needs_background": "light"
     },
     "output_type": "display_data"
    }
   ],
   "source": [
    "some_digit = x_test_basic[5]\n",
    "some_digit_image = some_digit.reshape(148,148)\n",
    "plt.imshow(some_digit_image,cmap=\"gray\")\n",
    "plt.show()"
   ]
  },
  {
   "cell_type": "code",
   "execution_count": 29,
   "metadata": {
    "colab": {
     "base_uri": "https://localhost:8080/",
     "height": 34
    },
    "colab_type": "code",
    "id": "qEgTtM7X3LcE",
    "outputId": "b4da84a6-ac5f-48dd-fb98-3ec2c60a354b"
   },
   "outputs": [
    {
     "data": {
      "text/plain": [
       "array([0.80395683, 0.81621622, 0.7981982 ])"
      ]
     },
     "execution_count": 29,
     "metadata": {},
     "output_type": "execute_result"
    }
   ],
   "source": [
    "#applying 3 fold cross validation.\n",
    "from sklearn.model_selection import cross_val_score\n",
    "cross_val_score(sgd, x_train_basic, y_train, cv=3, scoring=\"accuracy\")"
   ]
  },
  {
   "cell_type": "code",
   "execution_count": 30,
   "metadata": {
    "colab": {
     "base_uri": "https://localhost:8080/",
     "height": 34
    },
    "colab_type": "code",
    "id": "4EYxdbjQ3LcJ",
    "outputId": "527ec0f6-13d2-4273-bb8f-2f4481d34175"
   },
   "outputs": [
    {
     "name": "stdout",
     "output_type": "stream",
     "text": [
      "1666\n"
     ]
    }
   ],
   "source": [
    "from sklearn.model_selection import cross_val_predict\n",
    "y_train_pred = cross_val_predict(sgd, x_train_basic, y_train, cv=3)\n",
    "print(len(y_train_pred))"
   ]
  },
  {
   "cell_type": "markdown",
   "metadata": {},
   "source": [
    "# Model Evaluation"
   ]
  },
  {
   "cell_type": "code",
   "execution_count": 39,
   "metadata": {
    "colab": {
     "base_uri": "https://localhost:8080/",
     "height": 134
    },
    "colab_type": "code",
    "id": "bVXqv3Eu3LcN",
    "outputId": "ab3b2152-5fe9-4c17-9424-869a4944f041"
   },
   "outputs": [
    {
     "data": {
      "text/plain": [
       "array([[164,  34,  17,   0,  10,   7,  13],\n",
       "       [ 10, 150,  15,   0,  10,   9,   6],\n",
       "       [ 13,   7, 133,   4,   6,  15,  18],\n",
       "       [  0,   0,   3, 262,   0,   0,   0],\n",
       "       [ 16,  18,   8,   1, 176,   4,   5],\n",
       "       [  4,   7,  15,   0,   5, 241,   4],\n",
       "       [  7,   5,   8,   1,   6,  12, 217]], dtype=int64)"
      ]
     },
     "execution_count": 39,
     "metadata": {},
     "output_type": "execute_result"
    }
   ],
   "source": [
    "#Evaluating model using confusion matrix\n",
    "from sklearn.metrics import confusion_matrix\n",
    "confusion_matrix(y_train, y_train_pred) "
   ]
  },
  {
   "cell_type": "code",
   "execution_count": 40,
   "metadata": {
    "colab": {
     "base_uri": "https://localhost:8080/",
     "height": 67
    },
    "colab_type": "code",
    "id": "9PM6Wq0e3LcQ",
    "outputId": "3b329d9d-682a-470f-e903-68fcc53c0bad"
   },
   "outputs": [
    {
     "name": "stdout",
     "output_type": "stream",
     "text": [
      "Precision 0.7970333590149039\n",
      "Recall 0.7970589870449991\n",
      "F1_Score 0.7961053669197395\n"
     ]
    }
   ],
   "source": [
    "#Evaluating model using precision, recall and f1_score\n",
    "from sklearn.metrics import precision_score, recall_score\n",
    "from sklearn.metrics import f1_score\n",
    "print(\"Precision\",precision_score(y_train, y_train_pred, average=\"macro\")) \n",
    "print(\"Recall\",recall_score(y_train, y_train_pred, average=\"macro\")) \n",
    "print(\"F1_Score\",f1_score(y_train, y_train_pred, average=\"macro\"))"
   ]
  },
  {
   "cell_type": "markdown",
   "metadata": {},
   "source": [
    "# Evaluating model using testing data"
   ]
  },
  {
   "cell_type": "code",
   "execution_count": 41,
   "metadata": {},
   "outputs": [
    {
     "name": "stdout",
     "output_type": "stream",
     "text": [
      "609\n"
     ]
    }
   ],
   "source": [
    "#evaluating model using testing data \n",
    "from sklearn.model_selection import cross_val_predict\n",
    "y_test_pred = cross_val_predict(sgd, x_test_basic, y_test, cv=3)\n",
    "print(len(y_test_pred))"
   ]
  },
  {
   "cell_type": "code",
   "execution_count": 42,
   "metadata": {
    "colab": {},
    "colab_type": "code",
    "id": "lmJSrNrK3LcV"
   },
   "outputs": [
    {
     "data": {
      "text/plain": [
       "array([[63,  2,  3,  0,  7,  4,  4],\n",
       "       [ 2, 66,  4,  0,  5,  2,  2],\n",
       "       [ 2, 12, 58,  4,  6,  8,  3],\n",
       "       [ 0,  0, 11, 69,  0,  0,  6],\n",
       "       [ 5,  8,  8,  0, 50,  6,  5],\n",
       "       [ 2,  1,  2,  1,  2, 79,  2],\n",
       "       [12,  4, 10,  3,  5,  4, 57]], dtype=int64)"
      ]
     },
     "execution_count": 42,
     "metadata": {},
     "output_type": "execute_result"
    }
   ],
   "source": [
    "#evauating model based on testing data \n",
    "from sklearn.metrics import confusion_matrix\n",
    "confusion_matrix(y_test, y_test_pred) \n"
   ]
  },
  {
   "cell_type": "code",
   "execution_count": 44,
   "metadata": {
    "colab": {},
    "colab_type": "code",
    "id": "7MaNd51JX6og"
   },
   "outputs": [
    {
     "name": "stdout",
     "output_type": "stream",
     "text": [
      "Precision 0.7282402952758371\n",
      "Recall 0.7281755716808785\n",
      "F1_Score 0.7256567080113532\n"
     ]
    }
   ],
   "source": [
    "#Evaluating model using precision, recall and f1_score\n",
    "from sklearn.metrics import precision_score, recall_score\n",
    "from sklearn.metrics import f1_score\n",
    "print(\"Precision\",precision_score(y_test, y_test_pred, average=\"macro\")) \n",
    "print(\"Recall\",recall_score(y_test, y_test_pred, average=\"macro\")) \n",
    "print(\"F1_Score\",f1_score(y_test, y_test_pred, average=\"macro\"))"
   ]
  },
  {
   "cell_type": "markdown",
   "metadata": {},
   "source": [
    "# Random Forest Classifier"
   ]
  },
  {
   "cell_type": "code",
   "execution_count": 45,
   "metadata": {
    "colab": {},
    "colab_type": "code",
    "id": "3kN3CC_p3LcY"
   },
   "outputs": [],
   "source": [
    "#training model using Random Forest Classifier\n",
    "from sklearn.ensemble import RandomForestClassifier\n",
    "forest_clf = RandomForestClassifier(random_state=42)\n",
    "y_probas_forest = cross_val_predict(forest_clf, x_train_basic, y_train, cv=3,\n",
    " method=\"predict_proba\")\n",
    "\n",
    "y_scores_forest = y_probas_forest[:, 1]"
   ]
  },
  {
   "cell_type": "markdown",
   "metadata": {},
   "source": [
    "# Ensemble Learning Algorithm"
   ]
  },
  {
   "cell_type": "code",
   "execution_count": 46,
   "metadata": {
    "colab": {
     "base_uri": "https://localhost:8080/",
     "height": 521
    },
    "colab_type": "code",
    "id": "Wjtr2Mf73Lcb",
    "outputId": "aee30261-729a-453e-9b69-83533032b945"
   },
   "outputs": [
    {
     "data": {
      "text/plain": [
       "VotingClassifier(estimators=[('rf',\n",
       "                              RandomForestClassifier(bootstrap=True,\n",
       "                                                     ccp_alpha=0.0,\n",
       "                                                     class_weight=None,\n",
       "                                                     criterion='gini',\n",
       "                                                     max_depth=None,\n",
       "                                                     max_features='auto',\n",
       "                                                     max_leaf_nodes=None,\n",
       "                                                     max_samples=None,\n",
       "                                                     min_impurity_decrease=0.0,\n",
       "                                                     min_impurity_split=None,\n",
       "                                                     min_samples_leaf=1,\n",
       "                                                     min_samples_split=2,\n",
       "                                                     min_weight_fraction_leaf=0.0,\n",
       "                                                     n_estimators=100,\n",
       "                                                     n_jobs=None,\n",
       "                                                     oob_score...\n",
       "                                            class_weight=None,\n",
       "                                            early_stopping=False, epsilon=0.1,\n",
       "                                            eta0=0.01, fit_intercept=True,\n",
       "                                            l1_ratio=0.15,\n",
       "                                            learning_rate='adaptive',\n",
       "                                            loss='hinge', max_iter=1000,\n",
       "                                            n_iter_no_change=5, n_jobs=None,\n",
       "                                            penalty='l2', power_t=0.5,\n",
       "                                            random_state=50, shuffle=True,\n",
       "                                            tol=0.001, validation_fraction=0.1,\n",
       "                                            verbose=0, warm_start=False))],\n",
       "                 flatten_transform=True, n_jobs=None, voting='hard',\n",
       "                 weights=None)"
      ]
     },
     "execution_count": 46,
     "metadata": {},
     "output_type": "execute_result"
    }
   ],
   "source": [
    "#Building model using ensemble learning algorithm which combines results of SGD Classifier and Random Forest Classifier. \n",
    "from sklearn.ensemble import VotingClassifier\n",
    "voting_clf = VotingClassifier(\n",
    "    estimators=[('rf', forest_clf), ('sgd', sgd)],\n",
    "    voting='hard')\n",
    "voting_clf.fit(x_train_basic, y_train)"
   ]
  },
  {
   "cell_type": "code",
   "execution_count": 47,
   "metadata": {
    "colab": {
     "base_uri": "https://localhost:8080/",
     "height": 67
    },
    "colab_type": "code",
    "id": "Cc3Oxfu53Lce",
    "outputId": "d1548f06-31bf-4b4a-a72f-99d638e18830"
   },
   "outputs": [
    {
     "name": "stdout",
     "output_type": "stream",
     "text": [
      "RandomForestClassifier 0.7684729064039408\n",
      "SGDClassifier 0.8045977011494253\n",
      "VotingClassifier 0.7914614121510674\n"
     ]
    }
   ],
   "source": [
    "#Evaluting accuracy of all three models SGD Classifier, Random Forest Classifier and Ensemble Learning Algorithm\n",
    "from sklearn.metrics import accuracy_score\n",
    "\n",
    "for clf in (forest_clf, sgd, voting_clf):\n",
    "    clf.fit(x_train_basic, y_train)\n",
    "    y_pred = clf.predict(x_test_basic)\n",
    "    print(clf.__class__.__name__, accuracy_score(y_test, y_pred))"
   ]
  },
  {
   "cell_type": "markdown",
   "metadata": {},
   "source": [
    "# Part 2 - Using CNN on the same Dataset "
   ]
  },
  {
   "cell_type": "code",
   "execution_count": 15,
   "metadata": {
    "colab": {},
    "colab_type": "code",
    "id": "-mymQOEWDgul"
   },
   "outputs": [],
   "source": [
    "#Configuring image generator in order to augument images to enhance dataset. \n",
    "train_datagen = ImageDataGenerator(rescale=1./255, horizontal_flip=True)\n",
    "valid_datagen = ImageDataGenerator(rescale=1./255, horizontal_flip=True)\n",
    "test_datagen = ImageDataGenerator(rescale=1./255)"
   ]
  },
  {
   "cell_type": "code",
   "execution_count": 16,
   "metadata": {
    "colab": {
     "base_uri": "https://localhost:8080/",
     "height": 34
    },
    "colab_type": "code",
    "id": "gexP64LDDp50",
    "outputId": "12c55f08-9cd3-4ff6-adf9-7cbcf09b26ac"
   },
   "outputs": [
    {
     "name": "stdout",
     "output_type": "stream",
     "text": [
      "Found 1666 images belonging to 7 classes.\n"
     ]
    }
   ],
   "source": [
    "#importing images from training folder \n",
    "train_generator = train_datagen.flow_from_directory(\n",
    "    directory=\"dsp_project_all_files/train/\",\n",
    "    target_size=(148, 148),\n",
    "    color_mode=\"grayscale\",\n",
    "    batch_size=128,\n",
    "    class_mode=\"categorical\",\n",
    "    shuffle=True,\n",
    "    seed=42\n",
    ")"
   ]
  },
  {
   "cell_type": "code",
   "execution_count": 17,
   "metadata": {
    "colab": {
     "base_uri": "https://localhost:8080/",
     "height": 34
    },
    "colab_type": "code",
    "id": "EwL4nPYrDqEg",
    "outputId": "c837be3f-da83-45d1-8c94-e84fbeb47fad"
   },
   "outputs": [
    {
     "name": "stdout",
     "output_type": "stream",
     "text": [
      "Found 370 images belonging to 7 classes.\n"
     ]
    }
   ],
   "source": [
    "#importing images from validate folder \n",
    "valid_generator = valid_datagen.flow_from_directory(\n",
    "    directory=\"dsp_project_all_files/validate\",\n",
    "    target_size=(148, 148),\n",
    "    color_mode=\"grayscale\",\n",
    "    batch_size=128,\n",
    "    class_mode=\"categorical\",\n",
    "    shuffle=True,\n",
    "    seed=42\n",
    ")"
   ]
  },
  {
   "cell_type": "code",
   "execution_count": 18,
   "metadata": {},
   "outputs": [
    {
     "name": "stdout",
     "output_type": "stream",
     "text": [
      "Found 609 images belonging to 7 classes.\n"
     ]
    }
   ],
   "source": [
    "#importing images from test folder \n",
    "test_generator = test_datagen.flow_from_directory(\n",
    "    directory=\"dsp_project_all_files/test\",\n",
    "    target_size=(148, 148),\n",
    "    color_mode=\"grayscale\",\n",
    "    batch_size=128,\n",
    "    class_mode=\"categorical\",\n",
    "    shuffle=True,\n",
    "    seed=42\n",
    ")"
   ]
  },
  {
   "cell_type": "code",
   "execution_count": 100,
   "metadata": {
    "colab": {
     "base_uri": "https://localhost:8080/",
     "height": 655
    },
    "colab_type": "code",
    "id": "EsLJacf83Lcm",
    "outputId": "ea7ceac4-ced5-409a-e99d-e1cfc77beac2"
   },
   "outputs": [
    {
     "name": "stdout",
     "output_type": "stream",
     "text": [
      "Model: \"sequential_24\"\n",
      "_________________________________________________________________\n",
      "Layer (type)                 Output Shape              Param #   \n",
      "=================================================================\n",
      "conv2d_70 (Conv2D)           (None, 148, 148, 32)      320       \n",
      "_________________________________________________________________\n",
      "activation_93 (Activation)   (None, 148, 148, 32)      0         \n",
      "_________________________________________________________________\n",
      "max_pooling2d_70 (MaxPooling (None, 74, 74, 32)        0         \n",
      "_________________________________________________________________\n",
      "conv2d_71 (Conv2D)           (None, 72, 72, 64)        18496     \n",
      "_________________________________________________________________\n",
      "activation_94 (Activation)   (None, 72, 72, 64)        0         \n",
      "_________________________________________________________________\n",
      "max_pooling2d_71 (MaxPooling (None, 36, 36, 64)        0         \n",
      "_________________________________________________________________\n",
      "dropout_47 (Dropout)         (None, 36, 36, 64)        0         \n",
      "_________________________________________________________________\n",
      "conv2d_72 (Conv2D)           (None, 34, 34, 128)       73856     \n",
      "_________________________________________________________________\n",
      "activation_95 (Activation)   (None, 34, 34, 128)       0         \n",
      "_________________________________________________________________\n",
      "max_pooling2d_72 (MaxPooling (None, 17, 17, 128)       0         \n",
      "_________________________________________________________________\n",
      "dropout_48 (Dropout)         (None, 17, 17, 128)       0         \n",
      "_________________________________________________________________\n",
      "flatten_24 (Flatten)         (None, 36992)             0         \n",
      "_________________________________________________________________\n",
      "dense_47 (Dense)             (None, 256)               9470208   \n",
      "_________________________________________________________________\n",
      "dense_48 (Dense)             (None, 7)                 1799      \n",
      "_________________________________________________________________\n",
      "activation_96 (Activation)   (None, 7)                 0         \n",
      "=================================================================\n",
      "Total params: 9,564,679\n",
      "Trainable params: 9,564,679\n",
      "Non-trainable params: 0\n",
      "_________________________________________________________________\n"
     ]
    }
   ],
   "source": [
    "#configuring CNN architecture and compiling model by setting early stopping\n",
    "from keras.callbacks import EarlyStopping\n",
    "\n",
    "model = Sequential()\n",
    "\n",
    "model.add(Conv2D(32, (3, 3), padding='same', strides=(1, 1), input_shape=(148,148,1)))\n",
    "model.add(Activation('relu'))\n",
    "model.add(MaxPooling2D(pool_size=(2, 2)))\n",
    "\n",
    "model.add(Conv2D(64, (3, 3)))\n",
    "model.add(Activation('relu'))\n",
    "model.add(MaxPooling2D(pool_size=(2, 2)))\n",
    "model.add(Dropout(rate=0.2))\n",
    "\n",
    "model.add(Conv2D(128, (3, 3)))\n",
    "model.add(Activation('relu'))\n",
    "model.add(MaxPooling2D(pool_size=(2, 2)))\n",
    "model.add(Dropout(rate=0.25))\n",
    "\n",
    "model.add(Flatten())  #this converts our 3D feature maps to 1D feature vectors\n",
    "\n",
    "model.add(Dense(256))\n",
    "\n",
    "model.add(Dense(7))\n",
    "model.add(Activation('softmax'))\n",
    "\n",
    "model.summary()\n",
    "\n",
    "opt = keras.optimizers.Adam(learning_rate=0.0001, beta_1=0.9, beta_2=0.999, amsgrad=False)\n",
    "\n",
    "model.compile(loss='categorical_crossentropy',\n",
    "              optimizer=opt,\n",
    "              metrics=['accuracy'])    #accuracy = loss and optimizer model algorithm\n",
    "\n",
    "            "
   ]
  },
  {
   "cell_type": "code",
   "execution_count": 101,
   "metadata": {
    "colab": {
     "base_uri": "https://localhost:8080/",
     "height": 370
    },
    "colab_type": "code",
    "id": "xNk1fNPK3Lcr",
    "outputId": "e886860a-6c2c-41c1-958c-77e26b19a97f"
   },
   "outputs": [
    {
     "name": "stdout",
     "output_type": "stream",
     "text": [
      "Epoch 1/10\n",
      "100/100 [==============================] - 457s 5s/step - loss: 1.8385 - accuracy: 0.2924 - val_loss: 1.4361 - val_accuracy: 0.5730\n",
      "Epoch 2/10\n",
      "100/100 [==============================] - 502s 5s/step - loss: 1.1116 - accuracy: 0.6143 - val_loss: 0.8831 - val_accuracy: 0.7189\n",
      "Epoch 3/10\n",
      "100/100 [==============================] - 521s 5s/step - loss: 0.7463 - accuracy: 0.7431 - val_loss: 0.6593 - val_accuracy: 0.7622\n",
      "Epoch 4/10\n",
      "100/100 [==============================] - 508s 5s/step - loss: 0.5804 - accuracy: 0.8085 - val_loss: 0.4762 - val_accuracy: 0.8216\n",
      "Epoch 5/10\n",
      "100/100 [==============================] - 513s 5s/step - loss: 0.4455 - accuracy: 0.8571 - val_loss: 0.4479 - val_accuracy: 0.8595\n",
      "Epoch 6/10\n",
      "100/100 [==============================] - 515s 5s/step - loss: 0.4911 - accuracy: 0.8554 - val_loss: 0.4147 - val_accuracy: 0.8541\n",
      "Epoch 7/10\n",
      "100/100 [==============================] - 519s 5s/step - loss: 0.3055 - accuracy: 0.9116 - val_loss: 0.3236 - val_accuracy: 0.8919\n",
      "Epoch 8/10\n",
      "100/100 [==============================] - 513s 5s/step - loss: 0.2812 - accuracy: 0.9175 - val_loss: 0.5248 - val_accuracy: 0.8649\n",
      "Epoch 9/10\n",
      "100/100 [==============================] - 522s 5s/step - loss: 0.2049 - accuracy: 0.9479 - val_loss: 0.4795 - val_accuracy: 0.8595\n",
      "Epoch 10/10\n",
      "100/100 [==============================] - 514s 5s/step - loss: 0.2362 - accuracy: 0.9389 - val_loss: 0.1889 - val_accuracy: 0.9027\n"
     ]
    }
   ],
   "source": [
    "### from keras.callbacks import EarlyStopping\n",
    "\n",
    "earlystop = EarlyStopping(monitor='val_loss', patience=5, verbose=1, mode='auto')\n",
    "\n",
    "history = model.fit_generator(\n",
    "        train_generator,\n",
    "        steps_per_epoch=100,\n",
    "        epochs=10,\n",
    "        validation_data=valid_generator,\n",
    "            callbacks=[earlystop])"
   ]
  },
  {
   "cell_type": "code",
   "execution_count": 102,
   "metadata": {},
   "outputs": [
    {
     "name": "stdout",
     "output_type": "stream",
     "text": [
      "0.8128078579902649\n"
     ]
    }
   ],
   "source": [
    "test_loss, test_acc = model.evaluate_generator(test_generator)\n",
    "\n",
    "print(test_acc)"
   ]
  },
  {
   "cell_type": "code",
   "execution_count": 103,
   "metadata": {},
   "outputs": [],
   "source": [
    "predictions = model.predict_generator(generator=test_generator)"
   ]
  },
  {
   "cell_type": "code",
   "execution_count": 110,
   "metadata": {},
   "outputs": [
    {
     "data": {
      "image/png": "[encoded data removed]",
      "text/plain": [
       "<Figure size 576x360 with 1 Axes>"
      ]
     },
     "metadata": {
      "needs_background": "light"
     },
     "output_type": "display_data"
    }
   ],
   "source": [
    "pd.DataFrame(history.history).plot(figsize=(8, 5))\n",
    "plt.grid(True)\n",
    "plt.gca().set_ylim(0, 1)\n",
    "plt.ylabel('loss')\n",
    "plt.xlabel('epoch')# set the vertical range to [0-1]\n",
    "plt.show()"
   ]
  },
  {
   "cell_type": "code",
   "execution_count": 111,
   "metadata": {},
   "outputs": [
    {
     "data": {
      "image/png": "[encoded data removed]",
      "text/plain": [
       "<Figure size 432x288 with 1 Axes>"
      ]
     },
     "metadata": {
      "needs_background": "light"
     },
     "output_type": "display_data"
    }
   ],
   "source": [
    "plt.plot(history.history['loss'])\n",
    "plt.plot(history.history['val_loss'])\n",
    "plt.title('model loss')\n",
    "plt.ylabel('loss')\n",
    "plt.xlabel('epoch')\n",
    "plt.legend(['train', 'test'], loc='upper right')\n",
    "plt.show()"
   ]
  },
  {
   "cell_type": "code",
   "execution_count": 74,
   "metadata": {},
   "outputs": [],
   "source": []
  },
  {
   "cell_type": "code",
   "execution_count": 105,
   "metadata": {},
   "outputs": [],
   "source": [
    "model.save('cnn_currency.h5')"
   ]
  },
  {
   "cell_type": "code",
   "execution_count": 106,
   "metadata": {
    "colab": {
     "base_uri": "https://localhost:8080/",
     "height": 34
    },
    "colab_type": "code",
    "id": "047R8q6P97wS",
    "outputId": "03db778f-c4f0-4514-d282-5e5dcbfdf332"
   },
   "outputs": [
    {
     "name": "stdout",
     "output_type": "stream",
     "text": [
      "0.8128078579902649\n"
     ]
    }
   ],
   "source": [
    "print(test_acc)"
   ]
  }
 ],
 "metadata": {
  "colab": {
   "collapsed_sections": [],
   "name": "dsp_project_final_all_model-checkpoint.ipynb",
   "provenance": [],
   "toc_visible": true
  },
  "kernelspec": {
   "display_name": "Python 3",
   "language": "python",
   "name": "python3"
  },
  "language_info": {
   "codemirror_mode": {
    "name": "ipython",
    "version": 3
   },
   "file_extension": ".py",
   "mimetype": "text/x-python",
   "name": "python",
   "nbconvert_exporter": "python",
   "pygments_lexer": "ipython3",
   "version": "3.7.1"
  }
 },
 "nbformat": 4,
 "nbformat_minor": 1
}
